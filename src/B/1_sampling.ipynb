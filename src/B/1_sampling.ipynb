{
 "cells": [
  {
   "cell_type": "markdown",
   "metadata": {},
   "source": [
    "# Algorithms 202: Coursework 2 Task 1: Random Sampling"
   ]
  },
  {
   "cell_type": "markdown",
   "metadata": {},
   "source": [
    "Author: Jin Ha"
   ]
  },
  {
   "cell_type": "markdown",
   "metadata": {},
   "source": [
    "## Objectives"
   ]
  },
  {
   "cell_type": "markdown",
   "metadata": {},
   "source": [
    "The aim of this coursework is to enhance your algorithmic skills by developing algorithms from textual, non-formal descriptions. You are asked to show that you can:\n",
    "\n",
    "- implement three different random sampling algorithms\n",
    "- compare those algorithms using visual representations based on image sampling\n",
    "\n",
    "This notebook *is* the coursework. It contains cells with function definitions that you will need to complete. You will submit this notebook as your coursework."
   ]
  },
  {
   "cell_type": "markdown",
   "metadata": {},
   "source": [
    "## Preliminaries: helper functions"
   ]
  },
  {
   "cell_type": "markdown",
   "metadata": {},
   "source": [
    "Here we define a collection of functions that will be useful for the rest of the coursework. You'll need to run this cell to get started."
   ]
  },
  {
   "cell_type": "code",
   "execution_count": 1,
   "metadata": {
    "collapsed": false
   },
   "outputs": [],
   "source": [
    "%matplotlib inline\n",
    "\n",
    "import numpy as np\n",
    "\n",
    "from math import sqrt, pi, sin, cos, ceil, pow\n",
    "from random import random, randint\n",
    "\n",
    "from scipy.ndimage import map_coordinates\n",
    "from scipy.spatial import cKDTree as KDTree\n",
    "from matplotlib import pyplot as plt\n",
    "from PIL import Image\n",
    "\n",
    "def load_image(path):\n",
    "    return np.array(Image.open(str(path)))\n",
    "\n",
    "def sample_colors(image, sample_points):\n",
    "    r\"\"\"\n",
    "    Sample RGB colour values from an image of shape (w, h, 3)\n",
    "    at floating point (x, y) sample points.\n",
    "    \"\"\"\n",
    "    r = map_coordinates(image[..., 0], sample_points.T)\n",
    "    g = map_coordinates(image[..., 1], sample_points.T)\n",
    "    b = map_coordinates(image[..., 2], sample_points.T)\n",
    "    return np.vstack((r, g, b)).T\n",
    "\n",
    "def indices_of_pixels(image):\n",
    "    r\"\"\"(x, y) index values for each pixel in an image.\n",
    "    \"\"\"\n",
    "    return np.indices(image.shape[:2]).reshape([2, -1]).T\n",
    "\n",
    "def closest_index(sample_points, indices):\n",
    "    r\"\"\"\n",
    "    Find the nearest sample_point at a given index\n",
    "    (along with the distance to the point). Input is\n",
    "    an array of sample_points and an array of indicies to\n",
    "    test at. Output is array of indices and distances.\n",
    "    \"\"\"\n",
    "    kdtree = KDTree(sample_points)\n",
    "    distance, index = kdtree.query(indices)\n",
    "    return index, distance\n",
    "\n",
    "def resample_image(image, sample_points):\n",
    "    # for each (floating point) sample_point extract the\n",
    "    # RGB colour value of the image at that location\n",
    "    colors = sample_colors(image, sample_points)\n",
    "    # get all (x, y) index values for each pixel in\n",
    "    # the image\n",
    "    indices = indices_of_pixels(image)\n",
    "    # for every pixel (each index) find the nearest sample\n",
    "    # point (and the distance, but we don't need it here)\n",
    "    c_index,_ = closest_index(sample_points, indices)\n",
    "    # map the closest indexes to colour values - reshape\n",
    "    # the resulting RGB array back into the original image \n",
    "    # shape.\n",
    "    return colors[c_index].reshape(image.shape)"
   ]
  },
  {
   "cell_type": "markdown",
   "metadata": {
    "collapsed": true
   },
   "source": [
    "## Task 1: Random Sampling"
   ]
  },
  {
   "cell_type": "markdown",
   "metadata": {},
   "source": [
    "In this task you are asked to implement `uniform_sampling`, `best_candidate_sampling` and `poison_disc_sampling`. Additionally, you will need to implement visualising techniques that can be used to compare the output of the three different random sampling algorithms.\n",
    "\n",
    "Complete the below function definitions in the provided skeleton code. Do not change the names of the functions or their arguments."
   ]
  },
  {
   "cell_type": "markdown",
   "metadata": {},
   "source": [
    "### 1a. Implement `uniform_sampling`"
   ]
  },
  {
   "cell_type": "markdown",
   "metadata": {},
   "source": [
    "The `uniform_sampling` function should produce `n_samples` sample points randomly distributed over the sample domain. See lecture slides for details and pseudo-code. Hint: The sample domain defined by the width and the height of the image can be obtained by `image.shape[:2]`."
   ]
  },
  {
   "cell_type": "code",
   "execution_count": 2,
   "metadata": {
    "collapsed": true
   },
   "outputs": [],
   "source": [
    "def uniform_sampling(image, n_samples):\n",
    "    \n",
    "    # retrieve width and height of the input image\n",
    "    (w, h) = image.shape[:2]\n",
    "    \n",
    "    # create lists, samples that contains co-ordinates of x and y respectively\n",
    "    samples = []\n",
    "    \n",
    "    # for n_samples times, each iteration generates one tuple of (x, y) that is, a random sample\n",
    "    for i in range(n_samples):\n",
    "        \n",
    "        sample = uniform_sample(w, h)\n",
    "        samples.insert(i, sample)\n",
    "        \n",
    "    return np.array(samples)\n",
    "\n",
    "def uniform_sample(width, height):\n",
    "    x = random() * width\n",
    "    y = random() * height\n",
    "    \n",
    "    return (x, y)\n"
   ]
  },
  {
   "cell_type": "markdown",
   "metadata": {
    "collapsed": true
   },
   "source": [
    "### 1b. Implement `best_candidate_sampling`"
   ]
  },
  {
   "cell_type": "markdown",
   "metadata": {},
   "source": [
    "The `best_candidate_sampling` function should produce `n_samples` sample points randomly distributed over the sample domain. See lecture slides for details and pseudo-code. Hint: The `best_candidate` function here corresponds to the BEST-CANDIDATE-SAMPLE function in the slides, which generates a single new sample."
   ]
  },
  {
   "cell_type": "code",
   "execution_count": 3,
   "metadata": {
    "collapsed": true
   },
   "outputs": [],
   "source": [
    "def best_candidate_sampling(image, n_samples, n_candidates):\n",
    "    \n",
    "    # retrieve width and height of the input image\n",
    "    (w, h) = image.shape[:2]\n",
    "    \n",
    "    # create a first element by uniform_sample\n",
    "    (a, b) = uniform_sample(w, h)\n",
    "    \n",
    "    # create a list of samples containing an co-ordinate\n",
    "    samples = [(a, b)]\n",
    "    \n",
    "    # iterate it for n_samples times - 1, each iteration gives a random sample, (x, y)\n",
    "    for i in range(1, n_samples):\n",
    "        \n",
    "        (x, y) = best_candidate(image, samples, n_candidates)\n",
    "        \n",
    "        # update samples list that will be used for next iteration onwards\n",
    "        samples.insert(i, (x, y))\n",
    "        \n",
    "    return np.array(samples)\n",
    "\n",
    "def best_candidate(image, samples, n_candidates):\n",
    "    best_candidate = (0, 0)\n",
    "    best_distance = 0\n",
    "    \n",
    "    (w, h) = image.shape[:2]\n",
    "    \n",
    "    for i in range(n_candidates):\n",
    "        c = uniform_sample(w, h)\n",
    "        d = distance(find_closest(samples, c), c)\n",
    "        if d > best_distance:\n",
    "            best_distance = d\n",
    "            best_candidate = c\n",
    "\n",
    "    return best_candidate\n",
    "\n",
    "def find_closest(samples, c):\n",
    "    best_candidate = samples[0]\n",
    "    best_distance = distance(best_candidate, c)\n",
    "    \n",
    "    for i in range(1, len(samples)):\n",
    "        \n",
    "        current_distance = distance(samples[i], c)\n",
    "        \n",
    "        if current_distance < best_distance:\n",
    "            best_distance = current_distance\n",
    "            best_candidate = samples[i]\n",
    "\n",
    "    return best_candidate\n",
    "\n",
    "def distance(x, y):\n",
    "    dx = x[0] - y[0]\n",
    "    dy = x[1] - y[1]\n",
    "    \n",
    "    return sqrt(dx * dx + dy * dy)\n"
   ]
  },
  {
   "cell_type": "markdown",
   "metadata": {
    "collapsed": true
   },
   "source": [
    "### 1c. Implement `poison_disc_sampling`"
   ]
  },
  {
   "cell_type": "markdown",
   "metadata": {},
   "source": [
    "The `poison_disc_sampling` function should produce sample points randomly distributed over the sample domain with a minimum distance of `radius`. See lecture slides and [Bridson's original paper](https://www.cs.ubc.ca/~rbridson/docs/bridson-siggraph07-poissondisk.pdf) for details."
   ]
  },
  {
   "cell_type": "code",
   "execution_count": 4,
   "metadata": {
    "collapsed": true
   },
   "outputs": [],
   "source": [
    "def poison_disc_sampling(image, radius, n_candidates):\n",
    "    cell_size = radius / sqrt(2)\n",
    "    \n",
    "    (w, h) = ceil(image.shape[0] / cell_size), ceil(image.shape[1] / cell_size)\n",
    "    \n",
    "    grid = []\n",
    "    \n",
    "    for i in range(w):\n",
    "        grid.append([-1] * h)\n",
    "    \n",
    "    initial_point = uniform_sample(w, h)\n",
    "    \n",
    "    active_list = [initial_point]\n",
    "    sample_list = [initial_point]\n",
    "    \n",
    "    grid = grid_insert(grid, initial_point, cell_size)\n",
    "\n",
    "    while len(active_list) != 0:\n",
    "        index = randint(0, len(active_list) - 1)\n",
    "        point = active_list.pop(index)\n",
    "        \n",
    "        for i in range(n_candidates):\n",
    "            new_point = generate_random_point(image, point, radius)\n",
    "            \n",
    "            if is_in_grid(new_point, radius, grid):\n",
    "                grid_insert(grid, new_point, cell_size)\n",
    "                active_list.append(new_point)\n",
    "                sample_list.append(new_point)\n",
    "    \n",
    "    return np.array(sample_list)\n",
    "\n",
    "def image_to_grid(point, cell_size):\n",
    "    x = int(point[0] / cell_size)\n",
    "    y = int(point[1] / cell_size)\n",
    "    \n",
    "    return (x, y)\n",
    "\n",
    "def grid_insert(grid, point, cell_size):\n",
    "    p = image_to_grid(point, cell_size)\n",
    "    grid[p[0]][p[1]] = point\n",
    "    \n",
    "    return grid\n",
    "\n",
    "def generate_random_point(image, point, radius):\n",
    "    (w, h) = image.shape[:2]\n",
    "    \n",
    "    active_radius = radius * (random() + 1)\n",
    "    theta = 2 * pi * random()\n",
    "    \n",
    "    x = int(active_radius * cos(theta) + point[0])\n",
    "    y = int(active_radius * sin(theta) + point[1])\n",
    "    \n",
    "    if x >= 0 and y >= 0 and x < w and y < h:\n",
    "        point = (x, y)\n",
    "    \n",
    "    return point\n",
    "\n",
    "def is_in_grid(point, radius, grid):\n",
    "    for i in grid:\n",
    "        for p in i:\n",
    "            if p != -1:\n",
    "                if distance(p, point) < radius:\n",
    "                    return False\n",
    "    return True\n",
    "\n",
    "def distance(first, second):\n",
    "    return sqrt(pow(first[0] - second[0], 2) + pow(first[1] - second[1], 2))\n"
   ]
  },
  {
   "cell_type": "code",
   "execution_count": null,
   "metadata": {
    "collapsed": true
   },
   "outputs": [],
   "source": []
  }
 ],
 "metadata": {
  "kernelspec": {
   "display_name": "Python 3",
   "language": "python",
   "name": "python3"
  },
  "language_info": {
   "codemirror_mode": {
    "name": "ipython",
    "version": 3
   },
   "file_extension": ".py",
   "mimetype": "text/x-python",
   "name": "python",
   "nbconvert_exporter": "python",
   "pygments_lexer": "ipython3",
   "version": "3.5.2"
  }
 },
 "nbformat": 4,
 "nbformat_minor": 1
}
