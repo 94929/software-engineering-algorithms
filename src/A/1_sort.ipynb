{
 "cells": [
  {
   "cell_type": "markdown",
   "metadata": {},
   "source": [
    "# Algorithms 202: Coursework 1 Task 1: Sorting"
   ]
  },
  {
   "cell_type": "markdown",
   "metadata": {},
   "source": [
    "Group-ID: XX"
   ]
  },
  {
   "cell_type": "markdown",
   "metadata": {},
   "source": [
    "Group members: Jinsung Ha "
   ]
  },
  {
   "cell_type": "markdown",
   "metadata": {},
   "source": [
    "# Objectives"
   ]
  },
  {
   "cell_type": "markdown",
   "metadata": {},
   "source": [
    "The aim of this coursework is to enhance your algorithmic skills by mastering the divide and conquer and dynamic programming strategies. You are asked to show that you can:\n",
    "\n",
    "- implement divide and conquer solutions for given problems\n",
    "- compare naive and advanced implementations of algorithms solving the same problem\n",
    "\n",
    "This notebook *is* the coursework. It contains cells with function definitions that you will need to complete. You will submit this notebook as your coursework.\n",
    "\n",
    "The comparisons of different algorithms involve textual descriptions and graphical plots. For graphing you will be using [matplotlib](http://matplotlib.org/index.html) to generate plots. [This tutorial](http://matplotlib.org/index.html) will be useful to go through to get you up to speed. For the textual descriptions you may wish to use [LaTeX](http://en.wikipedia.org/wiki/LaTeX) inline like $\\mathcal{O}(n\\log{}n)$. Double click this cell to reveal the required markup - and [see here](http://texblog.org/2014/06/24/big-o-and-related-notations-in-latex/) for useful guidance on producing common symbols used in asymptotic run time analysis."
   ]
  },
  {
   "cell_type": "markdown",
   "metadata": {},
   "source": [
    "# Preliminaries: helper functions"
   ]
  },
  {
   "cell_type": "markdown",
   "metadata": {},
   "source": [
    "Here we define a collection of functions that will be useful for the rest of the coursework. You'll need to run this cell to get started."
   ]
  },
  {
   "cell_type": "code",
   "execution_count": 1,
   "metadata": {
    "collapsed": false
   },
   "outputs": [],
   "source": [
    "# so our plots get drawn in the notebook\n",
    "%matplotlib inline\n",
    "from matplotlib import pyplot as plt\n",
    "from random import randint\n",
    "from time import clock\n",
    "\n",
    "# other imported files.\n",
    "import math\n",
    "\n",
    "# a timer - runs the provided function and reports the\n",
    "# run time in ms\n",
    "def time_f(f):\n",
    "    before = clock()\n",
    "    f()\n",
    "    after = clock()\n",
    "    return after - before\n",
    "\n",
    "# remember - lambdas are just one line functions\n",
    "\n",
    "# make us a random list length (between 1 - 2000)\n",
    "rand_len = lambda max_len=2e3: randint(1, max_len)\n",
    "\n",
    "# choose a random value for a list element (between 0 1e6)\n",
    "rand_int = lambda: randint(0, 1e6)\n",
    "\n",
    "# generate a random list of random length -\n",
    "# here we use a list comprehension, a very tidy\n",
    "# way of transforming lists of data\n",
    "rand_list = lambda max_len=2e3: [rand_int() \n",
    "                                 for i in range(rand_len(max_len=max_len))]"
   ]
  },
  {
   "cell_type": "markdown",
   "metadata": {},
   "source": [
    "## Task 1: Sorting"
   ]
  },
  {
   "cell_type": "markdown",
   "metadata": {},
   "source": [
    "In this task you are asked to implement `insertion_sort` and `merge_sort`. You need to perform an experimental analysis of their running time. Based on your analysis, you should implement a third sorting algorithm, `hybrid_sort`, which is similar to `merge_sort` but uses `insertion_sort` for the base case. The problem size for which the base case is invoked has to be inferred from the running time analysis."
   ]
  },
  {
   "cell_type": "markdown",
   "metadata": {},
   "source": [
    "### 1a. Implement `insertion_sort`"
   ]
  },
  {
   "cell_type": "markdown",
   "metadata": {},
   "source": [
    "Complete the below definition for `insertion_sort`. Do not change the name of the function or it's arguments. \n",
    "\n",
    "\n",
    "Hints:\n",
    "\n",
    "- Your sort should be in-place (i.e. it changes the input list for the caller) but you should also return the list so the function can be called as indicated below."
   ]
  },
  {
   "cell_type": "code",
   "execution_count": 11,
   "metadata": {
    "collapsed": false
   },
   "outputs": [],
   "source": [
    "def insertion_sort(a):\n",
    "    return insertion_sort_helper(a, 1, len(a)-1)\n",
    "\n",
    "def insertion_sort_helper(a, p, r):\n",
    "    for j in range(int(p), int(r+1)):\n",
    "        key = a[j]\n",
    "        i = j-1\n",
    "        while (i >= 0 and a[i] > key):\n",
    "            a[i+1] = a[i]\n",
    "            i = i-1\n",
    "        a[i+1] = key\n",
    "    return a"
   ]
  },
  {
   "cell_type": "markdown",
   "metadata": {},
   "source": [
    "Use this test to confirm your implementation is correct."
   ]
  },
  {
   "cell_type": "code",
   "execution_count": 12,
   "metadata": {
    "collapsed": false
   },
   "outputs": [
    {
     "name": "stdout",
     "output_type": "stream",
     "text": [
      "True\n"
     ]
    }
   ],
   "source": [
    "x = [2, 4, 1, 3]\n",
    "print(insertion_sort(x) == [1, 2, 3, 4])"
   ]
  },
  {
   "cell_type": "markdown",
   "metadata": {},
   "source": [
    "### 1b. Implement `merge_sort`"
   ]
  },
  {
   "cell_type": "markdown",
   "metadata": {},
   "source": [
    "Complete the below definition for `merge_sort`. Do not change the name of the function or it's arguments.\n",
    "\n",
    "Hints:\n",
    "\n",
    "- Your implementation should leave the input list unmodified for the caller\n",
    "- You are free to define other functions in this cell"
   ]
  },
  {
   "cell_type": "code",
   "execution_count": 4,
   "metadata": {
    "collapsed": false
   },
   "outputs": [],
   "source": [
    "def merge_sort(a):\n",
    "    do_merge_sort(a, 0, len(a) - 1)\n",
    "    return a\n",
    "\n",
    "def do_merge_sort(a, lowIdx, highIdx):\n",
    "    if (lowIdx < highIdx):\n",
    "        midIdx = math.floor((lowIdx + highIdx) / 2)\n",
    "        do_merge_sort(a, lowIdx, midIdx)\n",
    "        do_merge_sort(a, midIdx + 1, highIdx)\n",
    "        merge(a, lowIdx, midIdx, highIdx)\n",
    "        \n",
    "def merge(a, lowIdx, midIdx, highIdx) :\n",
    "    \n",
    "    # nL = length of L, nR = length of R\n",
    "    nL = midIdx - lowIdx + 1    \n",
    "    nR = highIdx - midIdx\n",
    "    \n",
    "    # L = left sub-array, R = right sub-array\n",
    "    L = []\n",
    "    R = []\n",
    "    \n",
    "    # copy values from a to L\n",
    "    for i in range(1, int(nL) + 1):\n",
    "        L.append(a[int(lowIdx) + i - 1])\n",
    "        \n",
    "    # copy values from a to R\n",
    "    for j in range(1, int(nR) + 1):\n",
    "        R.append(a[int(midIdx) + j])\n",
    "    \n",
    "    # set sentinel\n",
    "    L.append(100000)\n",
    "    R.append(100000)\n",
    "    \n",
    "    i = 0\n",
    "    j = 0\n",
    "    \n",
    "    # merge sub-arrays\n",
    "    for k in range(int(lowIdx), int(highIdx) + 1):\n",
    "        if (L[i] <= R[j]):\n",
    "            a[k] = L[i]\n",
    "            i = i+1\n",
    "        else:\n",
    "            a[k] = R[j]\n",
    "            j = j+1\n"
   ]
  },
  {
   "cell_type": "markdown",
   "metadata": {},
   "source": [
    "Use this test to confirm your implementation is correct."
   ]
  },
  {
   "cell_type": "code",
   "execution_count": 5,
   "metadata": {
    "collapsed": false
   },
   "outputs": [
    {
     "name": "stdout",
     "output_type": "stream",
     "text": [
      "True\n"
     ]
    }
   ],
   "source": [
    "x = [2, 4, 1, 3]\n",
    "print(merge_sort(x) == [1, 2, 3, 4])"
   ]
  },
  {
   "cell_type": "markdown",
   "metadata": {},
   "source": [
    "### 1c. Analyse the running time performance of `insertion_sort` and `merge_sort`"
   ]
  },
  {
   "cell_type": "markdown",
   "metadata": {},
   "source": [
    "Draw a graph showing the run time performance of your `insertion_sort` and `merge_sort` for different lengths of random integers. Analyse the performance at the large scale ($n \\approx 10^3$) and small scale ($n \\approx 10$). To remove noisy measurements, you might want to repeat the analysis several times and estimate average performance for different $n$."
   ]
  },
  {
   "cell_type": "code",
   "execution_count": 6,
   "metadata": {
    "collapsed": false
   },
   "outputs": [
    {
     "data": {
      "text/plain": [
       "(0, 0.25000000000000006)"
      ]
     },
     "execution_count": 6,
     "metadata": {},
     "output_type": "execute_result"
    },
    {
     "data": {
      "image/png": "[encoded data removed]",
      "text/plain": [
       "<matplotlib.figure.Figure at 0x10a595190>"
      ]
     },
     "metadata": {},
     "output_type": "display_data"
    }
   ],
   "source": [
    "data = []\n",
    "timeMerge = []\n",
    "timeInsertion = []\n",
    "\n",
    "# code to get data.\n",
    "for k in range(100):\n",
    "    dataMerge = []\n",
    "    dataInsertion = []\n",
    "    x = randint(0, 150)\n",
    "    for j in range(x):\n",
    "        dataMerge.append(randint(0,1000))\n",
    "        dataInsertion.append(randint(0,1000))\n",
    "    timeMerge.append(time_f(lambda: merge_sort(dataMerge))*100)\n",
    "    timeInsertion.append(time_f(lambda: insertion_sort(dataInsertion))*100)\n",
    "    data.append(x)\n",
    "\n",
    "# displaying data.\n",
    "plt.scatter(data, timeMerge, c='blue')\n",
    "plt.scatter(data, timeInsertion, c='green')\n",
    "plt.xlabel('n (size of array)')\n",
    "plt.ylabel('time (/s)')\n",
    "plt.xlim(0)\n",
    "plt.ylim(0)"
   ]
  },
  {
   "cell_type": "code",
   "execution_count": 7,
   "metadata": {
    "collapsed": false
   },
   "outputs": [
    {
     "data": {
      "text/plain": [
       "(0, 0.050000000000000003)"
      ]
     },
     "execution_count": 7,
     "metadata": {},
     "output_type": "execute_result"
    },
    {
     "data": {
      "image/png": "[encoded data removed]",
      "text/plain": [
       "<matplotlib.figure.Figure at 0x10c2a4c10>"
      ]
     },
     "metadata": {},
     "output_type": "display_data"
    }
   ],
   "source": [
    "data = []\n",
    "timeMerge = []\n",
    "timeInsertion = []\n",
    "\n",
    "# code to get data.\n",
    "for k in range(100):\n",
    "    dataMerge = []\n",
    "    dataInsertion = []\n",
    "    x = randint(0, 1000)\n",
    "    for j in range(x):\n",
    "        dataMerge.append(randint(0,1000))\n",
    "        dataInsertion.append(randint(0,1000))\n",
    "    timeMerge.append(time_f(lambda: merge_sort(dataMerge)))\n",
    "    timeInsertion.append(time_f(lambda: insertion_sort(dataInsertion)))\n",
    "    data.append(x)\n",
    "\n",
    "# displaying data.\n",
    "plt.scatter(data, timeMerge, c='blue')\n",
    "plt.scatter(data, timeInsertion, c='green')\n",
    "plt.xlabel('n (size of array)')\n",
    "plt.ylabel('time (/s)')\n",
    "plt.xlim(0)\n",
    "plt.ylim(0)"
   ]
  },
  {
   "cell_type": "markdown",
   "metadata": {},
   "source": [
    "**Now discuss your findings in a few lines in the below cell:**"
   ]
  },
  {
   "cell_type": "markdown",
   "metadata": {},
   "source": [
    "*Replace with your analysis...*"
   ]
  },
  {
   "cell_type": "markdown",
   "metadata": {},
   "source": [
    "### 1d. Implement `hybrid_sort()`"
   ]
  },
  {
   "cell_type": "markdown",
   "metadata": {},
   "source": [
    "Implement `hybrid_sort()`, a `merge_sort()` variant which uses `insertion_sort()` for the base case. The problem size for which the base case is invoked has to be inferred from your above running time analysis."
   ]
  },
  {
   "cell_type": "code",
   "execution_count": 8,
   "metadata": {
    "collapsed": false
   },
   "outputs": [],
   "source": [
    "THRESHOLD_VALUE = 30;\n",
    "\n",
    "def hybrid_sort(a):\n",
    "    hybrid_sort_helper(a, 0, len(a) - 1)\n",
    "    return a\n",
    "\n",
    "def hybrid_sort_helper(a, p, r):\n",
    "    if ((r-p) < THRESHOLD_VALUE):\n",
    "        insertion_sort_helper(a, p, r)\n",
    "    elif (p < r):\n",
    "        q = math.floor((p+r)/2)\n",
    "        hybrid_sort_helper(a, p, q)\n",
    "        hybrid_sort_helper(a, q+1, r)\n",
    "        merge(a, p, q, r)"
   ]
  },
  {
   "cell_type": "markdown",
   "metadata": {},
   "source": [
    "Use this test to confirm your implementation is correct."
   ]
  },
  {
   "cell_type": "code",
   "execution_count": 9,
   "metadata": {
    "collapsed": false
   },
   "outputs": [
    {
     "name": "stdout",
     "output_type": "stream",
     "text": [
      "True\n"
     ]
    }
   ],
   "source": [
    "x = [2, 4, 1, 3]\n",
    "print(hybrid_sort(x) == [1, 2, 3, 4])"
   ]
  },
  {
   "cell_type": "markdown",
   "metadata": {},
   "source": [
    "### 1e. Analyse all three sorting implementations together"
   ]
  },
  {
   "cell_type": "markdown",
   "metadata": {},
   "source": [
    "Draw a graph showing the running time performance of your `insertion_sort()`, `merge_sort()` and `hybrid_sort()` for different lengths of random integers."
   ]
  },
  {
   "cell_type": "code",
   "execution_count": 13,
   "metadata": {
    "collapsed": false
   },
   "outputs": [
    {
     "data": {
      "text/plain": [
       "(0, 6.0)"
      ]
     },
     "execution_count": 13,
     "metadata": {},
     "output_type": "execute_result"
    },
    {
     "data": {
      "image/png": "[encoded data removed]",
      "text/plain": [
       "<matplotlib.figure.Figure at 0x10c1bd950>"
      ]
     },
     "metadata": {},
     "output_type": "display_data"
    }
   ],
   "source": [
    "tk = []\n",
    "nk = []\n",
    "tr = []\n",
    "tl = []\n",
    "\n",
    "for k in range(100):\n",
    "    L = []\n",
    "    R = []\n",
    "    P = []\n",
    "    x = randint(0,200)\n",
    "    for j in range(x):\n",
    "        L.append(randint(0,1000))\n",
    "        R.append(randint(0,1000))\n",
    "        P.append(randint(0,1000))\n",
    "    tk.append(time_f(lambda: merge_sort(L))*1000)\n",
    "    tr.append(time_f(lambda: insertion_sort(R))*1000)\n",
    "    tl.append(time_f(lambda: hybrid_sort(P))*1000)\n",
    "    nk.append(x)\n",
    "    \n",
    "plt.scatter(nk, tk, c='blue')\n",
    "plt.scatter(nk, tr, c='green')\n",
    "plt.scatter(nk, tl, c='red')\n",
    "plt.xlabel('n (size of array)')\n",
    "plt.ylabel('time (/s)')\n",
    "plt.xlim(0)\n",
    "plt.ylim(0)"
   ]
  },
  {
   "cell_type": "markdown",
   "metadata": {},
   "source": [
    "**Now discuss your findings in a few lines in the below cell:**"
   ]
  },
  {
   "cell_type": "markdown",
   "metadata": {},
   "source": [
    "The hybrid sort algorithm runs in $\\mathcal{O}(nk + n\\log{n/k})$ worse case time complexity. We experimented by changing the value of k, which for us is called the threshold_value. We noticed that increasing the threshold causes hybrid sort to behave similarly to insertion sort, because insertion sort is being carried out on more elements of the array. In practice, this threshold value needs to be adjusted to the size of arrays that we are trying to sort. So overall, mergesort still seems to be the most efficient out of the three algorithms. From further research, this modification should improve the running time of a typical mergesort implementation by 10 to 15%"
   ]
  },
  {
   "cell_type": "code",
   "execution_count": null,
   "metadata": {
    "collapsed": true
   },
   "outputs": [],
   "source": []
  }
 ],
 "metadata": {
  "kernelspec": {
   "display_name": "Python 2",
   "language": "python",
   "name": "python2"
  },
  "language_info": {
   "codemirror_mode": {
    "name": "ipython",
    "version": 2
   },
   "file_extension": ".py",
   "mimetype": "text/x-python",
   "name": "python",
   "nbconvert_exporter": "python",
   "pygments_lexer": "ipython2",
   "version": "2.7.10"
  }
 },
 "nbformat": 4,
 "nbformat_minor": 0
}
